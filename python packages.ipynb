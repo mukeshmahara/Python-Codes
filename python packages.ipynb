{
 "cells": [
  {
   "cell_type": "code",
   "execution_count": 1,
   "metadata": {},
   "outputs": [
    {
     "ename": "SyntaxError",
     "evalue": "invalid syntax (<ipython-input-1-235a2f9c5f9e>, line 1)",
     "output_type": "error",
     "traceback": [
      "\u001b[1;36m  File \u001b[1;32m\"<ipython-input-1-235a2f9c5f9e>\"\u001b[1;36m, line \u001b[1;32m1\u001b[0m\n\u001b[1;33m    sound/\u001b[0m\n\u001b[1;37m          ^\u001b[0m\n\u001b[1;31mSyntaxError\u001b[0m\u001b[1;31m:\u001b[0m invalid syntax\n"
     ]
    }
   ],
   "source": [
    "sound/           \n",
    "    __init__.py\n",
    "    formats/\n",
    "            __init__.py\n",
    "            wavread.py\n",
    "            wavwrite.py\n",
    "            aiffread.py\n",
    "            aiffwrite.py\n",
    "            auread.py\n",
    "            auwrite.py\n",
    "            ...\n",
    "    effects/\n",
    "            __init__.py\n",
    "            echo.py\n",
    "            surround.py\n",
    "            reverse.py\n",
    "            ...\n",
    "    filters/\n",
    "            __init__.py\n",
    "            equalizer.py\n",
    "            vocoder.py\n",
    "            karcoder.py\n",
    "            ...\n",
    "            "
   ]
  }
 ],
 "metadata": {
  "kernelspec": {
   "display_name": "Python 3",
   "language": "python",
   "name": "python3"
  },
  "language_info": {
   "codemirror_mode": {
    "name": "ipython",
    "version": 3
   },
   "file_extension": ".py",
   "mimetype": "text/x-python",
   "name": "python",
   "nbconvert_exporter": "python",
   "pygments_lexer": "ipython3",
   "version": "3.6.1"
  }
 },
 "nbformat": 4,
 "nbformat_minor": 2
}
