{
 "cells": [
  {
   "cell_type": "code",
   "execution_count": 35,
   "metadata": {},
   "outputs": [
    {
     "name": "stdout",
     "output_type": "stream",
     "text": [
      "-1\n",
      "3\n",
      "7\n",
      "11\n",
      "15\n",
      "19\n",
      "23\n",
      "27\n",
      "31\n",
      "35\n",
      "39\n",
      "43\n",
      "47\n",
      "51\n",
      "55\n",
      "59\n",
      "63\n",
      "67\n",
      "71\n",
      "75\n",
      "79\n",
      "83\n",
      "87\n",
      "91\n",
      "95\n"
     ]
    },
    {
     "ename": "TypeError",
     "evalue": "'type' object is not subscriptable",
     "output_type": "error",
     "traceback": [
      "\u001b[1;31m---------------------------------------------------------------------------\u001b[0m",
      "\u001b[1;31mTypeError\u001b[0m                                 Traceback (most recent call last)",
      "\u001b[1;32m<ipython-input-35-f279b71e164d>\u001b[0m in \u001b[0;36m<module>\u001b[1;34m()\u001b[0m\n\u001b[0;32m      5\u001b[0m \u001b[1;33m\u001b[0m\u001b[0m\n\u001b[0;32m      6\u001b[0m \u001b[1;33m\u001b[0m\u001b[0m\n\u001b[1;32m----> 7\u001b[1;33m \u001b[0mlist\u001b[0m \u001b[1;33m[\u001b[0m\u001b[1;36m17\u001b[0m\u001b[1;33m]\u001b[0m\u001b[1;33m\u001b[0m\u001b[0m\n\u001b[0m\u001b[0;32m      8\u001b[0m \u001b[1;32mfor\u001b[0m \u001b[0mi\u001b[0m \u001b[1;32min\u001b[0m \u001b[0mrange\u001b[0m\u001b[1;33m(\u001b[0m\u001b[1;36m20\u001b[0m\u001b[1;33m)\u001b[0m\u001b[1;33m:\u001b[0m\u001b[1;33m\u001b[0m\u001b[0m\n\u001b[0;32m      9\u001b[0m     \u001b[0mprint\u001b[0m\u001b[1;33m(\u001b[0m\u001b[0mi\u001b[0m\u001b[1;33m,\u001b[0m\u001b[0ma\u001b[0m\u001b[1;33m[\u001b[0m\u001b[0mi\u001b[0m\u001b[1;33m]\u001b[0m\u001b[1;33m)\u001b[0m\u001b[1;33m\u001b[0m\u001b[0m\n",
      "\u001b[1;31mTypeError\u001b[0m: 'type' object is not subscriptable"
     ]
    }
   ],
   "source": [
    "for i in range(1,100,4):\n",
    "    print(i-2)\n",
    "list(range(5,10,2))\n",
    "\n",
    "\n",
    "\n",
    "list [17]\n",
    "for i in range(20):\n",
    "    print(i,a[i])"
   ]
  },
  {
   "cell_type": "code",
   "execution_count": 85,
   "metadata": {},
   "outputs": [
    {
     "name": "stdout",
     "output_type": "stream",
     "text": [
      "2 is a prime number\n",
      "3 is a prime number\n",
      "4 equals 2 * 2\n",
      "5 is a prime number\n",
      "6 equals 2 * 3\n",
      "7 is a prime number\n",
      "8 equals 2 * 4\n",
      "9 equals 3 * 3\n",
      "10 equals 2 * 5\n",
      "11 is a prime number\n",
      "12 equals 2 * 6\n",
      "13 is a prime number\n",
      "14 equals 2 * 7\n",
      "15 equals 3 * 5\n",
      "16 equals 2 * 8\n",
      "17 is a prime number\n",
      "18 equals 2 * 9\n",
      "19 is a prime number\n",
      "20 equals 2 * 10\n",
      "21 equals 3 * 7\n",
      "22 equals 2 * 11\n",
      "23 is a prime number\n",
      "24 equals 2 * 12\n",
      "25 equals 5 * 5\n",
      "26 equals 2 * 13\n",
      "27 equals 3 * 9\n",
      "28 equals 2 * 14\n",
      "29 is a prime number\n",
      "30 equals 2 * 15\n",
      "31 is a prime number\n",
      "32 equals 2 * 16\n",
      "33 equals 3 * 11\n",
      "34 equals 2 * 17\n",
      "35 equals 5 * 7\n",
      "36 equals 2 * 18\n",
      "37 is a prime number\n",
      "38 equals 2 * 19\n",
      "39 equals 3 * 13\n",
      "40 equals 2 * 20\n",
      "41 is a prime number\n",
      "42 equals 2 * 21\n",
      "43 is a prime number\n",
      "44 equals 2 * 22\n",
      "45 equals 3 * 15\n",
      "46 equals 2 * 23\n",
      "47 is a prime number\n",
      "48 equals 2 * 24\n",
      "49 equals 7 * 7\n",
      "50 equals 2 * 25\n",
      "51 equals 3 * 17\n",
      "52 equals 2 * 26\n",
      "53 is a prime number\n",
      "54 equals 2 * 27\n",
      "55 equals 5 * 11\n",
      "56 equals 2 * 28\n",
      "57 equals 3 * 19\n",
      "58 equals 2 * 29\n",
      "59 is a prime number\n",
      "60 equals 2 * 30\n",
      "61 is a prime number\n",
      "62 equals 2 * 31\n",
      "63 equals 3 * 21\n",
      "64 equals 2 * 32\n",
      "65 equals 5 * 13\n",
      "66 equals 2 * 33\n",
      "67 is a prime number\n",
      "68 equals 2 * 34\n",
      "69 equals 3 * 23\n",
      "70 equals 2 * 35\n",
      "71 is a prime number\n",
      "72 equals 2 * 36\n",
      "73 is a prime number\n",
      "74 equals 2 * 37\n",
      "75 equals 3 * 25\n",
      "76 equals 2 * 38\n",
      "77 equals 7 * 11\n",
      "78 equals 2 * 39\n",
      "79 is a prime number\n",
      "80 equals 2 * 40\n",
      "81 equals 3 * 27\n",
      "82 equals 2 * 41\n",
      "83 is a prime number\n",
      "84 equals 2 * 42\n",
      "85 equals 5 * 17\n",
      "86 equals 2 * 43\n",
      "87 equals 3 * 29\n",
      "88 equals 2 * 44\n",
      "89 is a prime number\n",
      "90 equals 2 * 45\n",
      "91 equals 7 * 13\n",
      "92 equals 2 * 46\n",
      "93 equals 3 * 31\n",
      "94 equals 2 * 47\n",
      "95 equals 5 * 19\n",
      "96 equals 2 * 48\n",
      "97 is a prime number\n",
      "98 equals 2 * 49\n",
      "99 equals 3 * 33\n"
     ]
    }
   ],
   "source": [
    "# Program to find out the prime number in python\n",
    "\n",
    "for n in range(2,100):\n",
    "    for x in range(2,n):\n",
    "        if n%x==0:\n",
    "            print(n, 'equals' ,x,'*',n//x)\n",
    "            break\n",
    "    else:\n",
    "        print(n, 'is a prime number')"
   ]
  },
  {
   "cell_type": "code",
   "execution_count": 82,
   "metadata": {},
   "outputs": [
    {
     "name": "stdout",
     "output_type": "stream",
     "text": [
      "0 1 1 2 3 5 8 13 21 34 55 89 \n"
     ]
    }
   ],
   "source": [
    "def fib(n):    # write Fibonacci series up to n\n",
    "    \"\"\"Print a Fibonacci series up to n.\"\"\"\n",
    "    a, b = 0, 1\n",
    "    while a < n:\n",
    "        print(a, end=' ')\n",
    "        a, b = b, a+b\n",
    "    print()\n",
    "\n",
    "fib(100)"
   ]
  },
  {
   "cell_type": "code",
   "execution_count": 87,
   "metadata": {},
   "outputs": [
    {
     "name": "stdout",
     "output_type": "stream",
     "text": [
      "30\n"
     ]
    }
   ],
   "source": [
    "\n",
    "# using function to add two numbers\n",
    "def add(x,y):\n",
    "    sum=x+y\n",
    "    \n",
    "    print(sum)\n",
    "add(10,20)"
   ]
  },
  {
   "cell_type": "code",
   "execution_count": null,
   "metadata": {},
   "outputs": [],
   "source": []
  }
 ],
 "metadata": {
  "kernelspec": {
   "display_name": "Python 3",
   "language": "python",
   "name": "python3"
  }
 },
 "nbformat": 4,
 "nbformat_minor": 2
}
