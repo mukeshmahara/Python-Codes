{
 "cells": [
  {
   "cell_type": "code",
   "execution_count": null,
   "metadata": {},
   "outputs": [],
   "source": [
    "# generating the random numbers using module\n",
    "# named as  \"random\"\n",
    "\n",
    "\n",
    "import math\n",
    "import random\n",
    "for i in range(5):\n",
    "    value = random.randint(1,52)\n",
    "\n",
    "print(value)\n"
   ]
  },
  {
   "cell_type": "code",
   "execution_count": null,
   "metadata": {},
   "outputs": [],
   "source": [
    "#using math module for generating the square root of any number\n",
    "import math\n",
    "num=int(input(\"Enter a number :\")) #input takes the value as the string so e have to convert it into numerical value by type casting.\n",
    "print(\"The square root of the number is :\",math.sqrt(num))"
   ]
  }
 ],
 "metadata": {
  "kernelspec": {
   "display_name": "Python 3",
   "language": "python",
   "name": "python3"
  },
  "language_info": {
   "codemirror_mode": {
    "name": "ipython",
    "version": 3
   },
   "file_extension": ".py",
   "mimetype": "text/x-python",
   "name": "python",
   "nbconvert_exporter": "python",
   "pygments_lexer": "ipython3",
   "version": "3.6.1"
  }
 },
 "nbformat": 4,
 "nbformat_minor": 2
}
