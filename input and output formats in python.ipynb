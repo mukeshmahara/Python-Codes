{
 "cells": [
  {
   "cell_type": "code",
   "execution_count": 5,
   "metadata": {},
   "outputs": [
    {
     "name": "stdout",
     "output_type": "stream",
     "text": [
      "The value of pi is approximately 3.14.\n"
     ]
    }
   ],
   "source": [
    "year=2019\n",
    "event ='exam'\n",
    "f'Mr. Mukesh Mahara has passed {year} {event}'\n",
    "import math\n",
    "print(f'The value of pi is approximately {math.pi:.2f}.')\n"
   ]
  },
  {
   "cell_type": "code",
   "execution_count": 81,
   "metadata": {},
   "outputs": [
    {
     "data": {
      "text/plain": [
       "'The total percentage of yes votes are 49.67%'"
      ]
     },
     "execution_count": 81,
     "metadata": {},
     "output_type": "execute_result"
    }
   ],
   "source": [
    "yes_votes=42572654\n",
    "no_votes=43132495\n",
    "percentage=yes_votes/(yes_votes+no_votes)\n",
    "'{:50} YES votes {:20.2%}'.format(yes_votes,percentage)\n",
    "\n",
    "'There are {} yes and {} no votes'.format(yes_votes,no_votes)\n",
    "#f\"The total percentage of yes votes are: {:2.2f}   --->\"SyntaxError: f-string: empty expression not allowed\n",
    "f\"The total percentage of yes votes are: {percentage}\"\n",
    "'The total percentage of yes votes are {:2.2%}'.format(percentage)"
   ]
  },
  {
   "cell_type": "code",
   "execution_count": 89,
   "metadata": {},
   "outputs": [
    {
     "name": "stdout",
     "output_type": "stream",
     "text": [
      " 1   1    1\n",
      " 2   4    8\n",
      " 3   9   27\n",
      " 4  16   64\n",
      " 5  25  125\n",
      " 6  36  216\n",
      " 7  49  343\n",
      " 8  64  512\n",
      " 9  81  729\n",
      "10 100 1000\n"
     ]
    }
   ],
   "source": [
    "for x in range(1, 11):\n",
    "    print('{0:2d} {1:3d} {2:4d}'.format(x, x*x, x*x*x))"
   ]
  }
 ],
 "metadata": {
  "kernelspec": {
   "display_name": "Python 3",
   "language": "python",
   "name": "python3"
  },
  "language_info": {
   "codemirror_mode": {
    "name": "ipython",
    "version": 3
   },
   "file_extension": ".py",
   "mimetype": "text/x-python",
   "name": "python",
   "nbconvert_exporter": "python",
   "pygments_lexer": "ipython3",
   "version": "3.6.1"
  }
 },
 "nbformat": 4,
 "nbformat_minor": 2
}
