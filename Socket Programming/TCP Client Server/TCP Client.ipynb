{
 "cells": [
  {
   "cell_type": "code",
   "execution_count": null,
   "metadata": {},
   "outputs": [
    {
     "name": "stdout",
     "output_type": "stream",
     "text": [
      "file opened.\n",
      "Got Connection from  ('localhost', 2121)\n",
      "receiving data....\n"
     ]
    }
   ],
   "source": [
    "# TCP client\n",
    "import socket\n",
    "s= socket.socket()\n",
    "host='localhost'\n",
    "port=2121\n",
    "\n",
    "s.connect((host,port))\n",
    "\n",
    "\n",
    "with open('received_file', 'wb') as f:\n",
    "    print(\"file opened.\")\n",
    "    while True:\n",
    "        print(\"Got Connection from \",(host,port))\n",
    "        print(\"receiving data....\")\n",
    "        data=s.recv(1024)\n",
    "        print('data=%s', (data))\n",
    "        if not data:\n",
    "            break\n",
    "#     write data to a file\n",
    "        f.write(data)\n",
    "        \n",
    "f.close()\n",
    "print(\"sucessfully get the file\")\n",
    "s.close()\n",
    "print('connection closed')"
   ]
  },
  {
   "cell_type": "code",
   "execution_count": null,
   "metadata": {
    "collapsed": true
   },
   "outputs": [],
   "source": []
  }
 ],
 "metadata": {
  "kernelspec": {
   "display_name": "Python 3",
   "language": "python",
   "name": "python3"
  },
  "language_info": {
   "codemirror_mode": {
    "name": "ipython",
    "version": 3
   },
   "file_extension": ".py",
   "mimetype": "text/x-python",
   "name": "python",
   "nbconvert_exporter": "python",
   "pygments_lexer": "ipython3",
   "version": "3.6.1"
  }
 },
 "nbformat": 4,
 "nbformat_minor": 2
}
