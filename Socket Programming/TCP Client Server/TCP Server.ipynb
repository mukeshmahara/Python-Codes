{
 "cells": [
  {
   "cell_type": "code",
   "execution_count": null,
   "metadata": {},
   "outputs": [
    {
     "name": "stdout",
     "output_type": "stream",
     "text": [
      "Server is listening...\n",
      "Got connection from ('127.0.0.1', 49925)\n"
     ]
    }
   ],
   "source": [
    "import socket\n",
    "port=2121\n",
    "\n",
    "s=socket.socket()\n",
    "host='localhost'\n",
    "s.bind((host,port)) #binds to the port\n",
    "s.listen(5)\n",
    "\n",
    "print(\"Server is listening...\")\n",
    "\n",
    "while True:\n",
    "    conn, addr=s.accept();  #Establish connecton with client\n",
    "    print(\"Got connection from\", addr)\n",
    "    data = conn.recv(1024)\n",
    "    print(\"Server Received\", repr(data))\n",
    "    \n",
    "    filename='TCPSERVER.ipynb' #In the same folder or path is this file running must the file you want to tranfser to be\n",
    "    f = open(filename,'rb')\n",
    "    l = f.read(1024)\n",
    "    while(1):\n",
    "        conn.send(l)\n",
    "        print(\"Sent\",repr(l))\n",
    "        l=f.read(1024)\n",
    "    f.close()\n",
    "    \n",
    "    print(\"Sending done!\")\n",
    "    conn.send(\"Thank you for connecting\")\n",
    "    conn.close()\n",
    "    \n",
    "    "
   ]
  }
 ],
 "metadata": {
  "kernelspec": {
   "display_name": "Python 3",
   "language": "python",
   "name": "python3"
  },
  "language_info": {
   "codemirror_mode": {
    "name": "ipython",
    "version": 3
   },
   "file_extension": ".py",
   "mimetype": "text/x-python",
   "name": "python",
   "nbconvert_exporter": "python",
   "pygments_lexer": "ipython3",
   "version": "3.6.1"
  }
 },
 "nbformat": 4,
 "nbformat_minor": 2
}
