{
 "cells": [
  {
   "cell_type": "code",
   "execution_count": 69,
   "metadata": {},
   "outputs": [
    {
     "name": "stdout",
     "output_type": "stream",
     "text": [
      "Before apending-> The values in the list are: [1, 2, 3, 4, 5, 6]\n",
      "After apending 10-> The values in the list are: [1, 2, 3, 4, 5, 6, 10]\n",
      "After removing 6-> The values in the list are: [1, 2, 3, 4, 5, 10]\n"
     ]
    },
    {
     "data": {
      "text/plain": [
       "[1, 2, 3, 4, 5, 10, 0, 1, 2]"
      ]
     },
     "execution_count": 69,
     "metadata": {},
     "output_type": "execute_result"
    }
   ],
   "source": [
    "list=[1,2,3,4,5,6]\n",
    "\n",
    "print(\"Before apending-> The values in the list are:\",list)\n",
    "\n",
    "list.append(10)\n",
    "print(\"After apending 10-> The values in the list are:\",list)\n",
    "\n",
    "list.remove(6)\n",
    "print(\"After removing 6-> The values in the list are:\",list)\n",
    "\n",
    "for i in range(3):\n",
    "    list.append(i)\n",
    "    \n",
    "list"
   ]
  },
  {
   "cell_type": "code",
   "execution_count": null,
   "metadata": {
    "collapsed": true
   },
   "outputs": [],
   "source": []
  }
 ],
 "metadata": {
  "kernelspec": {
   "display_name": "Python 3",
   "language": "python",
   "name": "python3"
  },
  "language_info": {
   "codemirror_mode": {
    "name": "ipython",
    "version": 3
   },
   "file_extension": ".py",
   "mimetype": "text/x-python",
   "name": "python",
   "nbconvert_exporter": "python",
   "pygments_lexer": "ipython3",
   "version": "3.6.1"
  }
 },
 "nbformat": 4,
 "nbformat_minor": 2
}
