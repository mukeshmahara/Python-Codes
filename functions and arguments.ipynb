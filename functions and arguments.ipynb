{
 "cells": [
  {
   "cell_type": "code",
   "execution_count": 31,
   "metadata": {
    "scrolled": true
   },
   "outputs": [
    {
     "name": "stdout",
     "output_type": "stream",
     "text": [
      "--do you have any Limburger ?\n",
      "--I'm sorry, we're all out of Limburger\n",
      "It's very runny,sir.\n",
      "It's really very,Very runny,Sir.\n",
      "----------------------------------------\n",
      "shopkeeper : michael Palin\n",
      "client : John Cleese\n",
      "sketch : cheese Shop Sketch\n"
     ]
    }
   ],
   "source": [
    "# simple name of the arguments represent the single argument\n",
    "\n",
    "# name of argument with the single * symbol represent the arguments\n",
    "# with multiple propositional argument\n",
    "\n",
    "# argument name with double * sign represent the keyword argument with\n",
    "# multiple keyword argument\n",
    "\n",
    "def cheeseshop(kind, *arguments, **keywords):\n",
    "              print(\"--do you have any\",kind,\"?\")\n",
    "              print(\"--I'm sorry, we're all out of\",kind)\n",
    "              for proarg in arguments:\n",
    "                  print(proarg)\n",
    "              print(\"-\"*40)\n",
    "              for kw in keywords:\n",
    "                  print(kw,\":\",keywords[kw])\n",
    "              \n",
    "cheeseshop(\"Limburger\",\"It's very runny,sir.\",\n",
    "           \"It's really very,Very runny,Sir.\",\n",
    "           shopkeeper=\"michael Palin\",\n",
    "           client=\"John Cleese\",\n",
    "           sketch=\"cheese Shop Sketch\")\n",
    "              "
   ]
  },
  {
   "cell_type": "code",
   "execution_count": 41,
   "metadata": {},
   "outputs": [
    {
     "name": "stdout",
     "output_type": "stream",
     "text": [
      "Positional: ('one', 'two', 'three')\n",
      "Keywords: {}\n"
     ]
    }
   ],
   "source": [
    "def foo(*positional, **keywords):\n",
    "    print (\"Positional:\", positional)\n",
    "    print (\"Keywords:\", keywords)\n",
    "    \n",
    "foo('one', 'two', 'three')\n",
    "Positional: ('one', 'two', 'three')\n",
    "Keywords: {}"
   ]
  },
  {
   "cell_type": "code",
   "execution_count": 39,
   "metadata": {},
   "outputs": [
    {
     "name": "stdout",
     "output_type": "stream",
     "text": [
      "4\n",
      "5\n"
     ]
    },
    {
     "data": {
      "text/plain": [
       "['a', 'b', 'c', 'd', 'mukesh']"
      ]
     },
     "execution_count": 39,
     "metadata": {},
     "output_type": "execute_result"
    }
   ],
   "source": [
    "letters=[\"a\",\"b\",\"c\"]\n",
    "letters.append(\"d\")\n",
    "print(len(letters))\n",
    "letters.append(\"mukesh\")\n",
    "print(len(letters))\n",
    "letters"
   ]
  },
  {
   "cell_type": "code",
   "execution_count": 46,
   "metadata": {},
   "outputs": [
    {
     "name": "stdout",
     "output_type": "stream",
     "text": [
      "9\n"
     ]
    },
    {
     "data": {
      "text/plain": [
       "[-7, 1, 2, 3, 100, 4, 5, 6, 10]"
      ]
     },
     "execution_count": 46,
     "metadata": {},
     "output_type": "execute_result"
    }
   ],
   "source": [
    "nums=[1,2,3,4,5,6]\n",
    "nums.append(10)\n",
    "nums.insert(0,-7)\n",
    "nums.insert(4,100)\n",
    "print(len(nums))\n",
    "nums"
   ]
  },
  {
   "cell_type": "code",
   "execution_count": 67,
   "metadata": {},
   "outputs": [
    {
     "data": {
      "text/plain": [
       "'earth/mars/venus'"
      ]
     },
     "execution_count": 67,
     "metadata": {},
     "output_type": "execute_result"
    }
   ],
   "source": [
    "def concat(*args,sep=\"/\"):\n",
    "    return sep.join(args)\n",
    "concat(\"earth\",\"mars\",\"venus\")"
   ]
  },
  {
   "cell_type": "code",
   "execution_count": 108,
   "metadata": {},
   "outputs": [
    {
     "data": {
      "text/plain": [
       "'mukesh.mahara'"
      ]
     },
     "execution_count": 108,
     "metadata": {},
     "output_type": "execute_result"
    }
   ],
   "source": [
    "def concat(*arg,dot=\".\"):\n",
    "    return dot.join(arg)\n",
    "concat(\"mukesh\",\"mahara\")"
   ]
  },
  {
   "cell_type": "code",
   "execution_count": 122,
   "metadata": {},
   "outputs": [
    {
     "data": {
      "text/plain": [
       "[3, 4, 5]"
      ]
     },
     "execution_count": 122,
     "metadata": {},
     "output_type": "execute_result"
    }
   ],
   "source": [
    "list(range(3,6)) #normal call with separate arguments\n"
   ]
  },
  {
   "cell_type": "code",
   "execution_count": 132,
   "metadata": {},
   "outputs": [
    {
     "data": {
      "text/plain": [
       "[3, 4, 5, 6, 7, 8, 9]"
      ]
     },
     "execution_count": 132,
     "metadata": {},
     "output_type": "execute_result"
    }
   ],
   "source": [
    "args=[3,10]     #call with arguments unpacked from a list\n",
    "list(range(*args))"
   ]
  },
  {
   "cell_type": "code",
   "execution_count": 152,
   "metadata": {},
   "outputs": [
    {
     "name": "stdout",
     "output_type": "stream",
     "text": [
      "120\n"
     ]
    }
   ],
   "source": [
    "#lamda expression or function(Anonymous function)\n",
    "lambda_function = lambda x:x*2+x*x\n",
    "print(lambda_function(10))"
   ]
  },
  {
   "cell_type": "code",
   "execution_count": 187,
   "metadata": {},
   "outputs": [
    {
     "data": {
      "text/plain": [
       "[(5, 'five'), (4, 'four'), (1, 'one'), (6, 'six'), (3, 'three'), (2, 'two')]"
      ]
     },
     "execution_count": 187,
     "metadata": {},
     "output_type": "execute_result"
    }
   ],
   "source": [
    "pairs=[(1,'one'),(2,'two'),(3,'three'),(4,'four'),(5,'five'),(6,'six'),]\n",
    "pairs.sort(key=lambda pair:pair[1])\n",
    "pairs.sort\n",
    "pairs\n"
   ]
  },
  {
   "cell_type": "code",
   "execution_count": 212,
   "metadata": {},
   "outputs": [
    {
     "name": "stdout",
     "output_type": "stream",
     "text": [
      "Result : 30\n"
     ]
    }
   ],
   "source": [
    "#calling function inside a function \n",
    "\n",
    "def add(x,y):\n",
    "    return x+y\n",
    "def do_twice(function, x, y):\n",
    "    return function(function(x,y), function(x,y))\n",
    "a=5\n",
    "b=10\n",
    "\n",
    "print(\"Result :\",do_twice(add,a,b))\n"
   ]
  },
  {
   "cell_type": "code",
   "execution_count": null,
   "metadata": {
    "collapsed": true
   },
   "outputs": [],
   "source": []
  }
 ],
 "metadata": {
  "kernelspec": {
   "display_name": "Python 3",
   "language": "python",
   "name": "python3"
  },
  "language_info": {
   "codemirror_mode": {
    "name": "ipython",
    "version": 3
   },
   "file_extension": ".py",
   "mimetype": "text/x-python",
   "name": "python",
   "nbconvert_exporter": "python",
   "pygments_lexer": "ipython3",
   "version": "3.6.1"
  }
 },
 "nbformat": 4,
 "nbformat_minor": 2
}
